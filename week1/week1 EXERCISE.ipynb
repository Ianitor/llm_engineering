{
 "cells": [
  {
   "cell_type": "markdown",
   "id": "fe12c203-e6a6-452c-a655-afb8a03a4ff5",
   "metadata": {},
   "source": [
    "# End of week 1 exercise\n",
    "\n",
    "To demonstrate your familiarity with OpenAI API, and also Ollama, build a tool that takes a technical question,  \n",
    "and responds with an explanation. This is a tool that you will be able to use yourself during the course!"
   ]
  },
  {
   "cell_type": "code",
   "execution_count": 42,
   "id": "c1070317-3ed9-4659-abe3-828943230e03",
   "metadata": {},
   "outputs": [],
   "source": [
    "# imports\n",
    "import os\n",
    "import requests\n",
    "import openai\n",
    "import ollama\n",
    "from dotenv import load_dotenv\n",
    "from bs4 import BeautifulSoup\n",
    "from IPython.display import Markdown, display, update_display\n",
    "from openai import OpenAI \n",
    "import json\n",
    "\n"
   ]
  },
  {
   "cell_type": "code",
   "execution_count": 43,
   "id": "4a456906-915a-4bfd-bb9d-57e505c5093f",
   "metadata": {},
   "outputs": [],
   "source": [
    "# constants\n",
    "\n",
    "MODEL_GPT = 'gpt-4o-mini'\n",
    "MODEL_LLAMA = 'llama3.2'\n",
    "OLLAMA_API = \"http://localhost:11434/api/chat\"\n"
   ]
  },
  {
   "cell_type": "code",
   "execution_count": 44,
   "id": "a8d7923c-5f28-4c30-8556-342d7c8497c1",
   "metadata": {},
   "outputs": [
    {
     "name": "stdout",
     "output_type": "stream",
     "text": [
      "API key looks good so far\n"
     ]
    }
   ],
   "source": [
    "# set up environment\n",
    "openai = OpenAI()\n",
    "load_dotenv(override=True)\n",
    "api_key = os.getenv('OPENAI_API_KEY')\n",
    "api_key2 = os.getenv('OLLAMA_API')\n",
    "if api_key and api_key.startswith('sk-proj-') and len(api_key)>10:\n",
    "    print(\"API key looks good so far\")\n",
    "else:\n",
    "    print(\"There might be a problem with your API key? Please visit the troubleshooting notebook!\")\n",
    "    \n",
    "messages=[\n",
    "            {\"role\": \"system\", \"content\": system_prompt},\n",
    "            {\"role\": \"user\", \"content\": question}\n",
    "          ]\n",
    "\n",
    "system_prompt = \"you are an expert in technical problem solution and explanations. You use warm consize language as a doctor to a patient, speak in simple language/n\" \\\n",
    "\"assuming you explain problems of any difficulty to a child or to non-professional. Explain difficult terms if you cannot avoid them in explanation\"\n",
    "user_prompt= \"question\"\n",
    "\n",
    "payload = {\n",
    "        \"model\": MODEL_LLAMA,\n",
    "        \"messages\": messages,\n",
    "        \"stream\": True\n",
    "    }\n"
   ]
  },
  {
   "cell_type": "code",
   "execution_count": 45,
   "id": "3f0d0137-52b0-47a8-81a8-11a90a010798",
   "metadata": {},
   "outputs": [],
   "source": [
    "# here is the question; type over this to ask something new\n",
    "\n",
    "question = \"\"\"\n",
    "Please explain :\n",
    "why astronomy is not astrology and vise a versa\n",
    "\"\"\""
   ]
  },
  {
   "cell_type": "code",
   "execution_count": 46,
   "id": "60ce7000-a4a5-4cce-a261-e75ef45063b4",
   "metadata": {},
   "outputs": [
    {
     "data": {
      "text/markdown": [
       "Certainly! Let’s break it down in simple terms.\n",
       "\n",
       "**Astronomy** is the scientific study of everything in the universe beyond Earth's atmosphere. This means it looks at stars, planets, galaxies, and other cosmic wonders. Astronomers use telescopes and math to gather information and understand how these celestial objects work, their movements, and their properties.\n",
       "\n",
       "**Astrology**, on the other hand, is the belief that the positions and movements of celestial bodies (like stars and planets) can influence human lives, personalities, and even events on Earth. People who follow astrology often use horoscopes, which are charts that map the positions of celestial objects at a specific time (like when someone is born), to predict or explain certain traits or events.\n",
       "\n",
       "The key differences are:\n",
       "\n",
       "1. **Nature**: Astronomy is a science based on observation and evidence. Astrology is more about beliefs and interpretations, without scientific backing.\n",
       "  \n",
       "2. **Purpose**: Astronomy aims to understand the universe and its laws. Astrology seeks to find meaning and connections between celestial positions and human affairs.\n",
       "\n",
       "So, in summary, while both fields look at the stars, astronomy uses science to explore them, and astrology uses personal beliefs to interpret them. They're like apples and oranges—similar in that they're both related to celestial objects, but very different in their methods and goals!"
      ],
      "text/plain": [
       "<IPython.core.display.Markdown object>"
      ]
     },
     "metadata": {},
     "output_type": "display_data"
    }
   ],
   "source": [
    "# Get gpt-4o-mini to answer, with streaming\n",
    "stream = openai.chat.completions.create(\n",
    "        model=MODEL_GPT,\n",
    "        messages=[\n",
    "            {\"role\": \"system\", \"content\": system_prompt},\n",
    "            {\"role\": \"user\", \"content\": question}\n",
    "          ],\n",
    "        stream=True\n",
    "    )\n",
    "    \n",
    "response = \"\"\n",
    "display_handle = display(Markdown(\"\"), display_id=True)\n",
    "for chunk in stream:\n",
    "  response += chunk.choices[0].delta.content or ''\n",
    "  response = response.replace(\"```\",\"\").replace(\"markdown\", \"\")\n",
    "  update_display(Markdown(response), display_id=display_handle.display_id) "
   ]
  },
  {
   "cell_type": "code",
   "execution_count": 55,
   "id": "8f7c8ea8-4082-4ad0-8751-3301adcf6538",
   "metadata": {},
   "outputs": [
    {
     "name": "stdout",
     "output_type": "stream",
     "text": [
      "Sending request to Ollama API...\n"
     ]
    },
    {
     "data": {
      "text/markdown": [
       "Let me break it down for you in simple terms.\n",
       "\n",
       "**Astronomy vs Astrology: What's the difference?**\n",
       "\n",
       "Imagine you're looking up at the sky on a clear night. You see stars, planets, and galaxies. Now, let's talk about two related but distinct fields: Astronomy and Astrology.\n",
       "\n",
       "**Astronomy: The Study of Celestial Bodies**\n",
       "\n",
       "Astronomy is like being a detective trying to figure out the secrets of our universe. It's the study of celestial objects, such as stars, planets, galaxies, and other phenomena in space. Astronomers use scientific methods to observe, analyze, and understand these objects. They want to know how they form, behave, and interact with each other.\n",
       "\n",
       "**Astrology: The Study of Celestial Influences**\n",
       "\n",
       "Astrology is like making predictions about your life based on the positions of stars and planets. Astrologers believe that the positions of celestial bodies can influence human affairs, such as personality traits, relationships, and even future events. However, this idea is not supported by scientific evidence.\n",
       "\n",
       "**Why Astronomy is Not Astrology**\n",
       "\n",
       "Here are some reasons why astronomy and astrology are different:\n",
       "\n",
       "1. **Scientific Method**: Astronomy uses the scientific method to make observations, formulate hypotheses, and test predictions. Astrology, on the other hand, relies on superstition and unproven assumptions.\n",
       "2. **Evidence-Based**: Astronomers rely on empirical evidence from observations and experiments to support their theories. Astrologers often use anecdotal evidence or unverifiable claims.\n",
       "3. **Predictive Power**: Astronomy aims to predict celestial events, like eclipses or planetary orbits. Astrology attempts to predict human affairs, but its predictions are often vague and unreliable.\n",
       "4. **Lack of Causality**: Astronomers understand that celestial bodies affect each other through physical laws, like gravity. Astrologers believe that stars and planets can influence human behavior without a clear mechanism.\n",
       "\n",
       "**Why Astrology is Not Astronomy**\n",
       "\n",
       "Here's why astrology doesn't belong to the same field as astronomy:\n",
       "\n",
       "1. **Lack of Mathematical Predictability**: Astrology relies on complex calculations and interpretations, but its predictions are often imprecise and unpredictable.\n",
       "2. **No Empirical Evidence**: There's no empirical evidence to support astrological claims about human affairs or celestial influences.\n",
       "3. **Disregard for Physical Laws**: Astrology ignores fundamental physical laws, like gravity and electromagnetism, which govern the behavior of celestial bodies.\n",
       "\n",
       "In summary, astronomy is a scientific field that studies celestial objects using empirical evidence and the scientific method. Astrology, on the other hand, is not supported by scientific evidence and relies on unproven assumptions about the influence of celestial bodies on human affairs.\n",
       "\n",
       "Does this help clarify the difference between Astronomy and Astrology?"
      ],
      "text/plain": [
       "<IPython.core.display.Markdown object>"
      ]
     },
     "metadata": {},
     "output_type": "display_data"
    },
    {
     "name": "stdout",
     "output_type": "stream",
     "text": [
      "Response status code: 200\n",
      "Stream processing complete\n"
     ]
    }
   ],
   "source": [
    "# Get Llama 3.2 to answer\n",
    "print(\"Sending request to Ollama API...\")\n",
    "response1 = requests.post(OLLAMA_API, json=payload, stream=True)\n",
    "response = \"\"\n",
    "display_handle = display(Markdown(\"\"), display_id=True)\n",
    "print(f\"Response status code: {response1.status_code}\")\n",
    "# Parse the streaming JSON responses line by line\n",
    "for line in response1.iter_lines():\n",
    "    if line:\n",
    "        try:\n",
    "            # Parse each line as separate JSON\n",
    "            json_data = json.loads(line.decode('utf-8'))\n",
    "           \n",
    "            if 'message' in json_data:\n",
    "                chunk = json_data['message']['content']\n",
    "                response += chunk\n",
    "            \n",
    "                update_display(Markdown(response), display_id=display_handle.display_id)\n",
    "        except json.JSONDecodeError:\n",
    "            print(f\"JSON decode error: {e}\")\n",
    "            continue\n",
    "print(\"Stream processing complete\")"
   ]
  }
 ],
 "metadata": {
  "kernelspec": {
   "display_name": "llms",
   "language": "python",
   "name": "python3"
  },
  "language_info": {
   "codemirror_mode": {
    "name": "ipython",
    "version": 3
   },
   "file_extension": ".py",
   "mimetype": "text/x-python",
   "name": "python",
   "nbconvert_exporter": "python",
   "pygments_lexer": "ipython3",
   "version": "3.11.11"
  }
 },
 "nbformat": 4,
 "nbformat_minor": 5
}
