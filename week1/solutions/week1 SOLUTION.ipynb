{
 "cells": [
  {
   "cell_type": "markdown",
   "id": "fe12c203-e6a6-452c-a655-afb8a03a4ff5",
   "metadata": {},
   "source": [
    "# End of week 1 solution\n",
    "\n",
    "To demonstrate your familiarity with OpenAI API, and also Ollama, build a tool that takes a technical question,  \n",
    "and responds with an explanation. This is a tool that you will be able to use yourself during the course!\n",
    "\n",
    "After week 2 you'll be able to add a User Interface to this tool, giving you a valuable application."
   ]
  },
  {
   "cell_type": "code",
   "execution_count": 1,
   "id": "c1070317-3ed9-4659-abe3-828943230e03",
   "metadata": {},
   "outputs": [],
   "source": [
    "# imports\n",
    "\n",
    "from dotenv import load_dotenv\n",
    "from IPython.display import Markdown, display, update_display\n",
    "from openai import OpenAI\n",
    "import ollama"
   ]
  },
  {
   "cell_type": "code",
   "execution_count": 2,
   "id": "4a456906-915a-4bfd-bb9d-57e505c5093f",
   "metadata": {},
   "outputs": [],
   "source": [
    "# constants\n",
    "\n",
    "MODEL_GPT = 'gpt-4o-mini'\n",
    "MODEL_LLAMA = 'llama3.2'"
   ]
  },
  {
   "cell_type": "code",
   "execution_count": 3,
   "id": "a8d7923c-5f28-4c30-8556-342d7c8497c1",
   "metadata": {},
   "outputs": [],
   "source": [
    "# set up environment\n",
    "\n",
    "load_dotenv()\n",
    "openai = OpenAI()\n"
   ]
  },
  {
   "cell_type": "code",
   "execution_count": 4,
   "id": "3f0d0137-52b0-47a8-81a8-11a90a010798",
   "metadata": {},
   "outputs": [],
   "source": [
    "# here is the question; type over this to ask something new\n",
    "\n",
    "question = \"\"\"\n",
    "Please explain what this code does and why:\n",
    "yield from {book.get(\"author\") for book in books if book.get(\"author\")}\n",
    "\"\"\""
   ]
  },
  {
   "cell_type": "code",
   "execution_count": 5,
   "id": "8595807b-8ae2-4e1b-95d9-e8532142e8bb",
   "metadata": {},
   "outputs": [],
   "source": [
    "# prompts\n",
    "\n",
    "system_prompt = \"You are a helpful technical tutor who answers questions about python code, software engineering, data science and LLMs\"\n",
    "user_prompt = \"Please give a detailed explanation to the following question: \" + question"
   ]
  },
  {
   "cell_type": "code",
   "execution_count": 6,
   "id": "9605cbb6-3d3f-4969-b420-7f4cae0b9328",
   "metadata": {},
   "outputs": [],
   "source": [
    "# messages\n",
    "\n",
    "messages = [\n",
    "    {\"role\": \"system\", \"content\": system_prompt},\n",
    "    {\"role\": \"user\", \"content\": user_prompt}\n",
    "]"
   ]
  },
  {
   "cell_type": "code",
   "execution_count": 7,
   "id": "60ce7000-a4a5-4cce-a261-e75ef45063b4",
   "metadata": {},
   "outputs": [
    {
     "data": {
      "text/markdown": [
       "Certainly! Let’s break down the code snippet you provided:\n",
       "\n",
       "python\n",
       "yield from {book.get(\"author\") for book in books if book.get(\"author\")}\n",
       "\n",
       "\n",
       "### Breakdown of the Code\n",
       "\n",
       "1. **Set Comprehension**:\n",
       "   - `{book.get(\"author\") for book in books if book.get(\"author\")}` is a set comprehension. This part of the code is creating a set of unique authors from a collection of `books`.\n",
       "\n",
       "    - **`for book in books`**: This iterates over each `book` in the `books` iterable (could be a list, tuple, etc.).\n",
       "\n",
       "    - **`book.get(\"author\")`**: This method tries to get the value associated with the key `\"author\"` from each `book`. It is a safe way to access dictionary keys; if `\"author\"` doesn't exist for a particular `book`, it will return `None` rather than raising a `KeyError`.\n",
       "\n",
       "    - **`if book.get(\"author\")`**: This acts as a filter in the comprehension. It checks if the `author` exists and is truthy (i.e., not `None`, empty string, or similar). If there is no author, that book does not contribute to the resulting set.\n",
       "\n",
       "    - **Result**: The expression evaluates to a set containing unique author names. Since sets inherently do not allow duplicate entries, even if multiple books have the same author, that author will only appear once in the resulting set.\n",
       "\n",
       "2. **Yielding Values**:\n",
       "   - `yield from` is a Python statement used within a generator function. It allows the generator to yield all values from an iterable (in this case, the set created by the comprehension).\n",
       "\n",
       "   - When the code reaches `yield from`, it effectively delegates the value yielding to the set. This means that, for every unique author in the set, it will yield them one at a time.\n",
       "\n",
       "### Overall Purpose of the Code\n",
       "\n",
       "The overall purpose of this code is to iterate through a collection of books, extract the authors from each book, and yield each unique author from the set of authors. By using `yield from`, it produces a generator that emits each author without building a full list or array in memory, making it more memory efficient if the alternative was to return or print all authors at once.\n",
       "\n",
       "### Example Usage\n",
       "\n",
       "To illustrate this better, consider the following example:\n",
       "\n",
       "python\n",
       "books = [\n",
       "    {\"title\": \"Book 1\", \"author\": \"Author A\"},\n",
       "    {\"title\": \"Book 2\", \"author\": \"Author B\"},\n",
       "    {\"title\": \"Book 3\", \"author\": \"Author A\"},  # Duplicate\n",
       "    {\"title\": \"Book 4\"},  # No author\n",
       "    {\"title\": \"Book 5\", \"author\": \"Author C\"},\n",
       "]\n",
       "\n",
       "def get_unique_authors(books):\n",
       "    yield from {book.get(\"author\") for book in books if book.get(\"author\")}\n",
       "\n",
       "# Using the generator\n",
       "for author in get_unique_authors(books):\n",
       "    print(author)\n",
       "\n",
       "\n",
       "### Output\n",
       "\n",
       "Author A\n",
       "Author B\n",
       "Author C\n",
       "\n",
       "\n",
       "### Conclusion\n",
       "\n",
       "In summary, the code efficiently extracts and yields the unique authors from a collection of books, being mindful of missing author information, and utilizes Python's generator capabilities for better memory management, especially useful when dealing with large datasets or collections."
      ],
      "text/plain": [
       "<IPython.core.display.Markdown object>"
      ]
     },
     "metadata": {},
     "output_type": "display_data"
    }
   ],
   "source": [
    "# Get gpt-4o-mini to answer, with streaming\n",
    "\n",
    "stream = openai.chat.completions.create(model=MODEL_GPT, messages=messages,stream=True)\n",
    "    \n",
    "response = \"\"\n",
    "display_handle = display(Markdown(\"\"), display_id=True)\n",
    "for chunk in stream:\n",
    "    response += chunk.choices[0].delta.content or ''\n",
    "    response = response.replace(\"```\",\"\").replace(\"markdown\", \"\")\n",
    "    update_display(Markdown(response), display_id=display_handle.display_id)"
   ]
  },
  {
   "cell_type": "code",
   "execution_count": 9,
   "id": "8f7c8ea8-4082-4ad0-8751-3301adcf6538",
   "metadata": {},
   "outputs": [
    {
     "data": {
      "text/markdown": [
       "**Code Explanation**\n",
       "\n",
       "This line of Python code uses several advanced features, including generator expressions and dictionary methods.\n",
       "\n",
       "Here's a breakdown of what each part does:\n",
       "\n",
       "1. `{...}`: This is called a dictionary comprehension or dictionary expression. It creates an iterator that yields key-value pairs from the dictionary.\n",
       "2. `book.get(\"author\")`: For each book in the dictionary, this method attempts to retrieve the value associated with the key `\"author\"`. If the key doesn't exist, it returns `None`.\n",
       "3. `for book in books if ...`: This is a conditional filter clause that iterates over the items in the `books` dictionary. The condition `if book.get(\"author\")` filters out any dictionaries that don't have an `\"author\"` key.\n",
       "\n",
       "So, when we put it all together, this line of code yields an iterator that produces author names from books in the `books` dictionary only if each book has an `\"author\"` key.\n",
       "\n",
       "**Why This Code Exists**\n",
       "\n",
       "The primary purpose of this code is likely to extract author information from a list of dictionaries representing books. In a real-world scenario, you might be working with data from a database or API that returns books as dictionaries.\n",
       "\n",
       "This line of code helps simplify the process of extracting author names by applying filters to ensure only relevant data is processed. The `yield` keyword is used to create an iterator, which allows the function to remember its state and resume execution where it left off when calling `next()` on it again.\n",
       "\n",
       "**Example Use Case**\n",
       "\n",
       "Suppose you have a list of book dictionaries with author information:\n",
       "```python\n",
       "books = [\n",
       "    {\"title\": \"To Kill a Mockingbird\", \"author\": \"Harper Lee\"},\n",
       "    {\"title\": \"1984\", \"author\": \"George Orwell\"},\n",
       "    {\"title\": \"Pride and Prejudice\",},  # No author info\n",
       "]\n",
       "```\n",
       "If you run the code:\n",
       "```python\n",
       "authors = yield from {book.get(\"author\") for book in books if book.get(\"author\")}\n",
       "print(authors)  # Output: [\"Harper Lee\", \"George Orwell\"]\n",
       "```\n",
       "You'll get a list of author names that have corresponding data in the `books` dictionary.\n",
       "\n",
       "This code helps maintain data integrity by filtering out any dictionaries with missing `\"author\"` information, ensuring only relevant data is processed and returned."
      ],
      "text/plain": [
       "<IPython.core.display.Markdown object>"
      ]
     },
     "metadata": {},
     "output_type": "display_data"
    }
   ],
   "source": [
    "# Get Llama 3.2 to answer\n",
    "\n",
    "response = ollama.chat(model=MODEL_LLAMA, messages=messages)\n",
    "reply = response['message']['content']\n",
    "display(Markdown(reply))"
   ]
  },
  {
   "cell_type": "markdown",
   "id": "7e14bcdb-b928-4b14-961e-9f7d8c7335bf",
   "metadata": {},
   "source": [
    "# Congratulations!\n",
    "\n",
    "You could make it better by taking in the question using  \n",
    "`my_question = input(\"Please enter your question:\")`\n",
    "\n",
    "And then creating the prompts and making the calls interactively."
   ]
  },
  {
   "cell_type": "code",
   "execution_count": null,
   "id": "da663d73-dd2a-4fff-84df-2209cf2b330b",
   "metadata": {},
   "outputs": [],
   "source": []
  }
 ],
 "metadata": {
  "kernelspec": {
   "display_name": "llms",
   "language": "python",
   "name": "python3"
  },
  "language_info": {
   "codemirror_mode": {
    "name": "ipython",
    "version": 3
   },
   "file_extension": ".py",
   "mimetype": "text/x-python",
   "name": "python",
   "nbconvert_exporter": "python",
   "pygments_lexer": "ipython3",
   "version": "3.11.11"
  }
 },
 "nbformat": 4,
 "nbformat_minor": 5
}
